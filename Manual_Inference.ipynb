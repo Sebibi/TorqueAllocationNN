{
 "cells": [
  {
   "cell_type": "code",
   "id": "initial_id",
   "metadata": {
    "collapsed": true,
    "ExecuteTime": {
     "end_time": "2024-06-05T22:06:10.052342Z",
     "start_time": "2024-06-05T22:06:10.040952Z"
    }
   },
   "source": [
    "import torch\n",
    "import torch.nn as nn\n",
    "import numpy as np"
   ],
   "outputs": [],
   "execution_count": 9
  },
  {
   "metadata": {
    "ExecuteTime": {
     "end_time": "2024-06-05T22:06:10.064298Z",
     "start_time": "2024-06-05T22:06:10.054594Z"
    }
   },
   "cell_type": "code",
   "source": [
    "def print_model_performance(outputs: torch.tensor):\n",
    "    outputs = outputs.detach().numpy().flatten()\n",
    "    print(f'Outputs: {outputs}')\n",
    "    output_sum = np.sum(outputs)\n",
    "    print(f'Output sum: {output_sum}')\n",
    "    delta_output = outputs[0] + outputs[2] - outputs[1] - outputs[3]\n",
    "    print(f'Delta output: {delta_output}')"
   ],
   "id": "fc06f2425fd1ff01",
   "outputs": [],
   "execution_count": 10
  },
  {
   "metadata": {
    "ExecuteTime": {
     "end_time": "2024-06-05T22:06:10.070764Z",
     "start_time": "2024-06-05T22:06:10.065555Z"
    }
   },
   "cell_type": "code",
   "source": [
    "class SimpleNet(torch.nn.Module):\n",
    "    def __init__(self, input_size, output_size):\n",
    "        super(SimpleNet, self).__init__()\n",
    "        h_size = 32\n",
    "        self.fc1 = nn.Linear(input_size, h_size)\n",
    "        # self.fc2 = nn.Linear(64, 64)\n",
    "        self.fc3 = nn.Linear(h_size, h_size)\n",
    "        self.fc4 = nn.Linear(h_size, h_size)\n",
    "        self.fc5 = nn.Linear(h_size, output_size)\n",
    "        self.relu = nn.ReLU()\n",
    "\n",
    "    def forward(self, x):\n",
    "        x = self.relu(self.fc1(x))\n",
    "        # x = self.relu(self.fc2(x))\n",
    "        x = self.relu(self.fc3(x))\n",
    "        x = self.relu(self.fc4(x))\n",
    "        x = self.fc5(x)\n",
    "        return x"
   ],
   "id": "1ab8782e16fafebd",
   "outputs": [],
   "execution_count": 11
  },
  {
   "metadata": {
    "ExecuteTime": {
     "end_time": "2024-06-05T22:06:10.079723Z",
     "start_time": "2024-06-05T22:06:10.070764Z"
    }
   },
   "cell_type": "code",
   "source": [
    "model_path = 'models/TA_optimization_NN.pth'\n",
    "model = SimpleNet(6, 4)\n",
    "model_dict = torch.load(model_path, map_location=torch.device('cpu'))\n",
    "model.load_state_dict(model_dict)\n",
    "model.eval()"
   ],
   "id": "18ad7cd29aa2e042",
   "outputs": [
    {
     "data": {
      "text/plain": [
       "SimpleNet(\n",
       "  (fc1): Linear(in_features=6, out_features=32, bias=True)\n",
       "  (fc3): Linear(in_features=32, out_features=32, bias=True)\n",
       "  (fc4): Linear(in_features=32, out_features=32, bias=True)\n",
       "  (fc5): Linear(in_features=32, out_features=4, bias=True)\n",
       "  (relu): ReLU()\n",
       ")"
      ]
     },
     "execution_count": 12,
     "metadata": {},
     "output_type": "execute_result"
    }
   ],
   "execution_count": 12
  },
  {
   "metadata": {
    "ExecuteTime": {
     "end_time": "2024-06-05T22:06:10.085820Z",
     "start_time": "2024-06-05T22:06:10.081228Z"
    }
   },
   "cell_type": "code",
   "source": [
    "layer_names = [name for name in model_dict.keys()]\n",
    "weights = [model_dict[name].detach().cpu().numpy() for name in layer_names if 'weight' in name]\n",
    "biases = [model_dict[name].detach().cpu().numpy() for name in layer_names if 'bias' in name]"
   ],
   "id": "d652c8476f9e282",
   "outputs": [],
   "execution_count": 13
  },
  {
   "metadata": {
    "ExecuteTime": {
     "end_time": "2024-06-05T22:06:10.093864Z",
     "start_time": "2024-06-05T22:06:10.085820Z"
    }
   },
   "cell_type": "code",
   "source": [
    "input_values = torch.tensor([500, -200, 100, 100, 200, 200], dtype=torch.float32)\n",
    "output_values = model(input_values)\n",
    "print_model_performance(output_values)"
   ],
   "id": "c768a03a76b5bc6b",
   "outputs": [
    {
     "name": "stdout",
     "output_type": "stream",
     "text": [
      "Outputs: [ 24.905003 100.47629   75.65042  200.22124 ]\n",
      "Output sum: 401.2529296875\n",
      "Delta output: -200.14210510253906\n"
     ]
    }
   ],
   "execution_count": 14
  },
  {
   "metadata": {
    "ExecuteTime": {
     "end_time": "2024-06-05T22:06:10.098641Z",
     "start_time": "2024-06-05T22:06:10.093864Z"
    }
   },
   "cell_type": "code",
   "source": [
    "# Perform the same calculation manually\n",
    "input_values_numpy = input_values.detach().numpy()\n",
    "h1 = weights[0] @ input_values_numpy + biases[0]\n",
    "h1 = np.maximum(h1, 0)\n",
    "h2 = weights[1] @ h1 + biases[1]\n",
    "h2 = np.maximum(h2, 0)\n",
    "h3 = weights[2] @ h2 + biases[2]\n",
    "h3 = np.maximum(h3, 0)\n",
    "output = weights[3] @ h3 + biases[3]\n",
    "print_model_performance(torch.tensor(output))"
   ],
   "id": "a2777056792534c9",
   "outputs": [
    {
     "name": "stdout",
     "output_type": "stream",
     "text": [
      "Outputs: [ 24.905003 100.4763    75.650406 200.22124 ]\n",
      "Output sum: 401.2529296875\n",
      "Delta output: -200.1421356201172\n"
     ]
    }
   ],
   "execution_count": 15
  },
  {
   "metadata": {
    "ExecuteTime": {
     "end_time": "2024-06-05T22:06:10.116113Z",
     "start_time": "2024-06-05T22:06:10.098641Z"
    }
   },
   "cell_type": "code",
   "source": [
    "# Save the weights and biases to a file\n",
    "directory = 'models/manual_weights/'\n",
    "for i, (weight, bias) in enumerate(zip(weights, biases)):\n",
    "    np.savetxt(directory + f'weight_{i}.csv', weight, delimiter='\\t')\n",
    "    np.savetxt(directory + f'bias_{i}.csv', bias, delimiter='\\t')    "
   ],
   "id": "84eeb6ad92b1d225",
   "outputs": [],
   "execution_count": 16
  }
 ],
 "metadata": {
  "kernelspec": {
   "display_name": "Python 3",
   "language": "python",
   "name": "python3"
  },
  "language_info": {
   "codemirror_mode": {
    "name": "ipython",
    "version": 2
   },
   "file_extension": ".py",
   "mimetype": "text/x-python",
   "name": "python",
   "nbconvert_exporter": "python",
   "pygments_lexer": "ipython2",
   "version": "2.7.6"
  }
 },
 "nbformat": 4,
 "nbformat_minor": 5
}
