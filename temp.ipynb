{
 "cells": [
  {
   "cell_type": "code",
   "id": "initial_id",
   "metadata": {
    "collapsed": true,
    "ExecuteTime": {
     "end_time": "2024-06-04T10:17:29.108197Z",
     "start_time": "2024-06-04T10:17:28.581454Z"
    }
   },
   "source": [
    "import torch\n",
    "import torch.nn as nn\n",
    "import numpy as np"
   ],
   "outputs": [],
   "execution_count": 1
  },
  {
   "metadata": {
    "ExecuteTime": {
     "end_time": "2024-06-04T10:17:29.118172Z",
     "start_time": "2024-06-04T10:17:29.108197Z"
    }
   },
   "cell_type": "code",
   "source": [
    "class SimpleNet(torch.nn.Module):\n",
    "    def __init__(self, input_size, output_size):\n",
    "        super(SimpleNet, self).__init__()\n",
    "        h_size = 32\n",
    "        self.fc1 = nn.Linear(input_size, h_size)\n",
    "        # self.fc2 = nn.Linear(64, 64)\n",
    "        self.fc3 = nn.Linear(h_size, h_size)\n",
    "        self.fc4 = nn.Linear(h_size, h_size)\n",
    "        self.fc5 = nn.Linear(h_size, output_size)\n",
    "        self.relu = nn.ReLU()\n",
    "\n",
    "    def forward(self, x):\n",
    "        x = self.relu(self.fc1(x))\n",
    "        # x = self.relu(self.fc2(x))\n",
    "        x = self.relu(self.fc3(x))\n",
    "        x = self.relu(self.fc4(x))\n",
    "        x = self.fc5(x)\n",
    "        return x"
   ],
   "id": "20642a21f1385725",
   "outputs": [],
   "execution_count": 2
  },
  {
   "metadata": {
    "ExecuteTime": {
     "end_time": "2024-06-04T10:17:29.128422Z",
     "start_time": "2024-06-04T10:17:29.118911Z"
    }
   },
   "cell_type": "code",
   "source": [
    "model_path = 'models/TA_optimization_NN.pth'\n",
    "model_dict = torch.load(model_path, map_location=torch.device('cpu'))\n",
    "model = SimpleNet(6, 4)\n",
    "model.load_state_dict(model_dict)\n",
    "print('Model loaded')"
   ],
   "id": "498f90eb8b9355b6",
   "outputs": [
    {
     "name": "stdout",
     "output_type": "stream",
     "text": [
      "Model loaded\n"
     ]
    }
   ],
   "execution_count": 3
  },
  {
   "metadata": {
    "ExecuteTime": {
     "end_time": "2024-06-04T10:17:29.191157Z",
     "start_time": "2024-06-04T10:17:29.128422Z"
    }
   },
   "cell_type": "code",
   "source": [
    "model.eval()\n",
    "model.to('cpu')\n",
    "X = torch.tensor(np.array([[400, 200, 100, 100, 200, 200], [400, 200, 100, 100, 200, 200]]), dtype=torch.float32)\n",
    "traced_model = torch.jit.trace(model.forward, X)\n",
    "print('Model traced')"
   ],
   "id": "dfb2097772c94475",
   "outputs": [
    {
     "name": "stdout",
     "output_type": "stream",
     "text": [
      "Model traced\n"
     ]
    }
   ],
   "execution_count": 4
  },
  {
   "metadata": {
    "ExecuteTime": {
     "end_time": "2024-06-04T10:17:29.201157Z",
     "start_time": "2024-06-04T10:17:29.191157Z"
    }
   },
   "cell_type": "code",
   "source": [
    "traced_model.save('models/TA_optimization_NN_cpu_110_traced.pt')\n",
    "print('Model saved')"
   ],
   "id": "45a1bbc3c8155ebf",
   "outputs": [
    {
     "name": "stdout",
     "output_type": "stream",
     "text": [
      "Model saved\n"
     ]
    }
   ],
   "execution_count": 5
  }
 ],
 "metadata": {
  "kernelspec": {
   "display_name": "Python 3",
   "language": "python",
   "name": "python3"
  },
  "language_info": {
   "codemirror_mode": {
    "name": "ipython",
    "version": 2
   },
   "file_extension": ".py",
   "mimetype": "text/x-python",
   "name": "python",
   "nbconvert_exporter": "python",
   "pygments_lexer": "ipython2",
   "version": "2.7.6"
  }
 },
 "nbformat": 4,
 "nbformat_minor": 5
}
