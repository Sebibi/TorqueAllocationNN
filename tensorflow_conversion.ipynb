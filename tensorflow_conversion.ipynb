{
 "cells": [
  {
   "cell_type": "code",
   "id": "initial_id",
   "metadata": {
    "collapsed": true,
    "ExecuteTime": {
     "end_time": "2024-06-04T21:30:40.007408Z",
     "start_time": "2024-06-04T21:30:39.989770Z"
    }
   },
   "source": [
    "import torch\n",
    "import torch.nn as nn\n",
    "import onnx\n",
    "import tensorflow as tf\n",
    "import nobuco\n",
    "from nobuco import ChannelOrder"
   ],
   "outputs": [],
   "execution_count": 9
  },
  {
   "metadata": {
    "ExecuteTime": {
     "end_time": "2024-06-04T21:30:40.022665Z",
     "start_time": "2024-06-04T21:30:40.009655Z"
    }
   },
   "cell_type": "code",
   "source": [
    "class SimpleNet(torch.nn.Module):\n",
    "    def __init__(self, input_size=6, output_size=4):\n",
    "        super(SimpleNet, self).__init__()\n",
    "        h_size = 32\n",
    "        self.fc1 = nn.Linear(input_size, h_size)\n",
    "        # self.fc2 = nn.Linear(64, 64)\n",
    "        self.fc3 = nn.Linear(h_size, h_size)\n",
    "        self.fc4 = nn.Linear(h_size, h_size)\n",
    "        self.fc5 = nn.Linear(h_size, output_size)\n",
    "        self.relu = nn.ReLU()\n",
    "\n",
    "    def forward(self, x):\n",
    "        x = self.relu(self.fc1(x))\n",
    "        # x = self.relu(self.fc2(x))\n",
    "        x = self.relu(self.fc3(x))\n",
    "        x = self.relu(self.fc4(x))\n",
    "        x = self.fc5(x)\n",
    "        return x"
   ],
   "id": "8b26ff28366ff275",
   "outputs": [],
   "execution_count": 10
  },
  {
   "metadata": {
    "ExecuteTime": {
     "end_time": "2024-06-04T21:30:40.037796Z",
     "start_time": "2024-06-04T21:30:40.023667Z"
    }
   },
   "cell_type": "code",
   "source": [
    "# Load the torch model\n",
    "torch_model_path = 'models/TA_optimization_NN_cpu.pt'\n",
    "torch_model = SimpleNet()\n",
    "torch_model.load_state_dict(torch.load(torch_model_path, map_location=torch.device('cpu')))\n",
    "torch_model.eval()\n",
    "torch_model.to('cpu')"
   ],
   "id": "25248c27b5a5a736",
   "outputs": [
    {
     "data": {
      "text/plain": [
       "SimpleNet(\n",
       "  (fc1): Linear(in_features=6, out_features=32, bias=True)\n",
       "  (fc3): Linear(in_features=32, out_features=32, bias=True)\n",
       "  (fc4): Linear(in_features=32, out_features=32, bias=True)\n",
       "  (fc5): Linear(in_features=32, out_features=4, bias=True)\n",
       "  (relu): ReLU()\n",
       ")"
      ]
     },
     "execution_count": 11,
     "metadata": {},
     "output_type": "execute_result"
    }
   ],
   "execution_count": 11
  },
  {
   "metadata": {
    "ExecuteTime": {
     "end_time": "2024-06-04T21:43:25.439483Z",
     "start_time": "2024-06-04T21:43:25.257428Z"
    }
   },
   "cell_type": "code",
   "source": "torch.onnx.export(torch_model, torch.rand(size=(1, 6)), 'models/onnx/TA_optimization_NN_cpu.onnx')",
   "id": "a1646b033d92bced",
   "outputs": [],
   "execution_count": 30
  },
  {
   "metadata": {
    "ExecuteTime": {
     "end_time": "2024-06-04T21:30:40.132597Z",
     "start_time": "2024-06-04T21:30:40.038796Z"
    }
   },
   "cell_type": "code",
   "source": [
    "\n",
    "dummy_image = torch.rand(size=(1, 6))\n",
    "pytorch_module = torch_model.eval()\n",
    "\n",
    "keras_model = nobuco.pytorch_to_keras(\n",
    "    pytorch_module,\n",
    "    args=[dummy_image], kwargs=None,\n",
    "    inputs_channel_order=ChannelOrder.TENSORFLOW,\n",
    "    outputs_channel_order=ChannelOrder.TENSORFLOW\n",
    ")"
   ],
   "id": "dc35c29063f5b8b4",
   "outputs": [
    {
     "name": "stdout",
     "output_type": "stream",
     "text": [
      "Legend:\n",
      "    \u001B[32mGreen\u001B[0m — conversion successful\n",
      "    \u001B[33mYellow\u001B[0m — conversion imprecise\n",
      "    \u001B[31mRed\u001B[0m — conversion failed\n",
      "    \u001B[31m\u001B[7mRed\u001B[0m — no converter found\n",
      "    \u001B[0m\u001B[1mBold\u001B[0m — conversion applied directly\n",
      "    * — subgraph reused\n",
      "    \u001B[7mTensor\u001B[0m — this output is not dependent on any of subgraph's input tensors\n",
      "    \u001B[4mTensor\u001B[0m — this input is a parameter / constant\n",
      "    \u001B[90mTensor\u001B[0m — this tensor is useless\n",
      "\n",
      "\u001B[32mSimpleNet[__main__]\u001B[0m(float32_0<1,6>\u001B[0m) -> float32_15<1,4>\u001B[0m\n",
      "\u001B[32m │ \u001B[0m \u001B[32m\u001B[1mLinear[torch.nn.modules.linear]\u001B[0m(float32_0<1,6>\u001B[0m) -> float32_3<1,32>\u001B[0m\n",
      "\u001B[32m │ \u001B[0m \u001B[32m\u001B[1m └·\u001B[0m \u001B[0mlinear[torch.nn.functional]\u001B[0m(float32_0<1,6>\u001B[0m, float32_1<32,6>\u001B[0m, float32_2<32>\u001B[0m) -> float32_3<1,32>\u001B[0m\n",
      "\u001B[32m │ \u001B[0m \u001B[32m\u001B[1mReLU[torch.nn.modules.activation]\u001B[0m(float32_3<1,32>\u001B[0m) -> float32_4<1,32>\u001B[0m\n",
      "\u001B[32m │ \u001B[0m \u001B[32m\u001B[1m ├·\u001B[0m \u001B[0mrelu[torch.nn.functional]\u001B[0m(float32_3<1,32>\u001B[0m, inplace=False) -> float32_4<1,32>\u001B[0m\n",
      "\u001B[32m │ \u001B[0m \u001B[32m\u001B[1m └ \u001B[0m \u001B[0m └·\u001B[0m \u001B[0mrelu[torch]\u001B[0m(float32_3<1,32>\u001B[0m) -> float32_4<1,32>\u001B[0m\n",
      "\u001B[32m │ \u001B[0m \u001B[32m\u001B[1mLinear[torch.nn.modules.linear]\u001B[0m(float32_4<1,32>\u001B[0m) -> float32_7<1,32>\u001B[0m\n",
      "\u001B[32m │ \u001B[0m \u001B[32m\u001B[1m └·\u001B[0m \u001B[0mlinear[torch.nn.functional]\u001B[0m(float32_4<1,32>\u001B[0m, float32_5<32,32>\u001B[0m, float32_6<32>\u001B[0m) -> float32_7<1,32>\u001B[0m\n",
      "\u001B[32m │ \u001B[0m \u001B[32m*ReLU[torch.nn.modules.activation]\u001B[0m(float32_7<1,32>\u001B[0m) -> float32_8<1,32>\u001B[0m\n",
      "\u001B[32m │ \u001B[0m \u001B[32m\u001B[1mLinear[torch.nn.modules.linear]\u001B[0m(float32_8<1,32>\u001B[0m) -> float32_11<1,32>\u001B[0m\n",
      "\u001B[32m │ \u001B[0m \u001B[32m\u001B[1m └·\u001B[0m \u001B[0mlinear[torch.nn.functional]\u001B[0m(float32_8<1,32>\u001B[0m, float32_9<32,32>\u001B[0m, float32_10<32>\u001B[0m) -> float32_11<1,32>\u001B[0m\n",
      "\u001B[32m │ \u001B[0m \u001B[32m*ReLU[torch.nn.modules.activation]\u001B[0m(float32_11<1,32>\u001B[0m) -> float32_12<1,32>\u001B[0m\n",
      "\u001B[32m ├·\u001B[0m \u001B[32m\u001B[1mLinear[torch.nn.modules.linear]\u001B[0m(float32_12<1,32>\u001B[0m) -> float32_15<1,4>\u001B[0m\n",
      "\u001B[32m └ \u001B[0m \u001B[32m\u001B[1m └·\u001B[0m \u001B[0mlinear[torch.nn.functional]\u001B[0m(float32_12<1,32>\u001B[0m, float32_13<4,32>\u001B[0m, float32_14<4>\u001B[0m) -> float32_15<1,4>\u001B[0m\n",
      "\n",
      "Conversion complete. Elapsed time: 0.08 sec.\n"
     ]
    }
   ],
   "execution_count": 12
  },
  {
   "metadata": {
    "ExecuteTime": {
     "end_time": "2024-06-04T21:30:40.224916Z",
     "start_time": "2024-06-04T21:30:40.134925Z"
    }
   },
   "cell_type": "code",
   "source": [
    "# Test model\n",
    "import numpy as np\n",
    "dummy_input = np.random.rand(1, 6)\n",
    "output = keras_model.predict(dummy_input)\n",
    "print(output)"
   ],
   "id": "d339cdf58aaeab27",
   "outputs": [
    {
     "name": "stdout",
     "output_type": "stream",
     "text": [
      "1/1 [==============================] - 0s 43ms/step\n",
      "[[ 0.113675    1.030733    0.47125852 -1.0413678 ]]\n"
     ]
    }
   ],
   "execution_count": 13
  },
  {
   "metadata": {
    "ExecuteTime": {
     "end_time": "2024-06-04T21:30:40.584823Z",
     "start_time": "2024-06-04T21:30:40.226798Z"
    }
   },
   "cell_type": "code",
   "source": [
    "# Convert the model to tensorflow format\n",
    "tf.saved_model.save(keras_model, 'models/tensorflow/TA_optimization_NN_cpu')"
   ],
   "id": "4827b3bf894d0879",
   "outputs": [
    {
     "name": "stdout",
     "output_type": "stream",
     "text": [
      "INFO:tensorflow:Assets written to: models/tensorflow/TA_optimization_NN_cpu\\assets\n"
     ]
    },
    {
     "name": "stderr",
     "output_type": "stream",
     "text": [
      "INFO:tensorflow:Assets written to: models/tensorflow/TA_optimization_NN_cpu\\assets\n"
     ]
    }
   ],
   "execution_count": 14
  },
  {
   "metadata": {
    "ExecuteTime": {
     "end_time": "2024-06-04T21:30:40.960416Z",
     "start_time": "2024-06-04T21:30:40.586818Z"
    }
   },
   "cell_type": "code",
   "source": [
    "keras_model.save('models/keras/TA_optimization_NN_cpu')\n",
    "keras_model.sa"
   ],
   "id": "68e53c6722cd53a1",
   "outputs": [
    {
     "name": "stdout",
     "output_type": "stream",
     "text": [
      "WARNING:tensorflow:Compiled the loaded model, but the compiled metrics have yet to be built. `model.compile_metrics` will be empty until you train or evaluate the model.\n"
     ]
    },
    {
     "name": "stderr",
     "output_type": "stream",
     "text": [
      "WARNING:tensorflow:Compiled the loaded model, but the compiled metrics have yet to be built. `model.compile_metrics` will be empty until you train or evaluate the model.\n"
     ]
    },
    {
     "name": "stdout",
     "output_type": "stream",
     "text": [
      "INFO:tensorflow:Assets written to: models/keras/TA_optimization_NN_cpu\\assets\n"
     ]
    },
    {
     "name": "stderr",
     "output_type": "stream",
     "text": [
      "INFO:tensorflow:Assets written to: models/keras/TA_optimization_NN_cpu\\assets\n"
     ]
    }
   ],
   "execution_count": 15
  },
  {
   "metadata": {
    "ExecuteTime": {
     "end_time": "2024-06-04T21:37:58.628932Z",
     "start_time": "2024-06-04T21:37:58.615944Z"
    }
   },
   "cell_type": "code",
   "source": [
    "import openvino\n",
    "# Trace the torch model\n",
    "dummy_image = torch.rand(size=(1, 6))\n",
    "torch_model = torch.jit.trace(torch_model, dummy_image).eval()\n",
    "\n",
    "torch_model.forward(dummy_image)"
   ],
   "id": "5aa47133212948dc",
   "outputs": [
    {
     "data": {
      "text/plain": [
       "tensor([[-0.5805,  1.0996,  0.6414, -1.0991]], grad_fn=<AddmmBackward0>)"
      ]
     },
     "execution_count": 25,
     "metadata": {},
     "output_type": "execute_result"
    }
   ],
   "execution_count": 25
  },
  {
   "metadata": {
    "ExecuteTime": {
     "end_time": "2024-06-04T21:45:25.131831Z",
     "start_time": "2024-06-04T21:45:24.960458Z"
    }
   },
   "cell_type": "code",
   "source": [
    "from openvino import PartialShape\n",
    "\n",
    "ov_model = openvino.convert_model('models/onnx/TA_optimization_NN_cpu.onnx')\n",
    "openvino.save_model(ov_model, 'models/openvino/TA_optimization_NN_cpu.xml')"
   ],
   "id": "5fa3c850ab9128ee",
   "outputs": [],
   "execution_count": 35
  }
 ],
 "metadata": {
  "kernelspec": {
   "display_name": "Python 3",
   "language": "python",
   "name": "python3"
  },
  "language_info": {
   "codemirror_mode": {
    "name": "ipython",
    "version": 2
   },
   "file_extension": ".py",
   "mimetype": "text/x-python",
   "name": "python",
   "nbconvert_exporter": "python",
   "pygments_lexer": "ipython2",
   "version": "2.7.6"
  }
 },
 "nbformat": 4,
 "nbformat_minor": 5
}
